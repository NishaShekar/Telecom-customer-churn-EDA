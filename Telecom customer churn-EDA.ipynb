{
 "cells": [
  {
   "cell_type": "code",
   "execution_count": null,
   "id": "ab0c2437-b9ca-4278-8556-a1fe55f6e9c3",
   "metadata": {},
   "outputs": [],
   "source": [
    "import pandas as pd\n",
    "import numpy as np\n",
    "import seaborn as sns\n",
    "import matplotlib.pyplot as plt\n",
    "\n",
    "from warnings import filterwarnings\n",
    "filterwarnings('ignore')"
   ]
  },
  {
   "cell_type": "code",
   "execution_count": null,
   "id": "16dc820b-9471-448d-a28c-d2bec8d9ba7b",
   "metadata": {},
   "outputs": [],
   "source": [
    "pd.set_option('display.max_rows', None)"
   ]
  },
  {
   "cell_type": "code",
   "execution_count": null,
   "id": "05a1b14f-eadb-4d49-ada4-3016f0945049",
   "metadata": {},
   "outputs": [],
   "source": [
    "data = pd.read_csv('Telco_Cusomer_Churn.csv')\n",
    "data.head()"
   ]
  },
  {
   "cell_type": "markdown",
   "id": "64be3422-d078-4562-afb7-b6d585b4d0dc",
   "metadata": {},
   "source": [
    "## Basic understanding of data"
   ]
  },
  {
   "cell_type": "code",
   "execution_count": null,
   "id": "195025df-f078-4f0f-bc73-d8368eeb161f",
   "metadata": {},
   "outputs": [],
   "source": [
    "data.shape"
   ]
  },
  {
   "cell_type": "code",
   "execution_count": null,
   "id": "9e159c43-3709-4527-8595-6d79021ff2d3",
   "metadata": {},
   "outputs": [],
   "source": [
    "data.info()"
   ]
  },
  {
   "cell_type": "code",
   "execution_count": null,
   "id": "da78d876-cad9-4d1b-a076-eed24c500989",
   "metadata": {},
   "outputs": [],
   "source": [
    "data.duplicated().sum()"
   ]
  },
  {
   "cell_type": "code",
   "execution_count": null,
   "id": "4a53c061-a8ce-496d-a2ce-b9577defb33d",
   "metadata": {},
   "outputs": [],
   "source": [
    "df = data.copy()"
   ]
  },
  {
   "cell_type": "code",
   "execution_count": null,
   "id": "d90951d2-3051-465e-9497-65df8711f959",
   "metadata": {},
   "outputs": [],
   "source": [
    "df['TotalCharges'].unique()"
   ]
  },
  {
   "cell_type": "code",
   "execution_count": null,
   "id": "da51f354-2817-415a-ba4b-f5b7a2f31665",
   "metadata": {},
   "outputs": [],
   "source": [
    "space_index = df[df['TotalCharges'].str.contains(' ')].index"
   ]
  },
  {
   "cell_type": "code",
   "execution_count": null,
   "id": "d12702d1-9da0-46ef-8016-58799ca8ff16",
   "metadata": {},
   "outputs": [],
   "source": [
    "for i in space_index:\n",
    "    df.loc[i, 'TotalCharges'] = 0"
   ]
  },
  {
   "cell_type": "code",
   "execution_count": null,
   "id": "2efb75b5-435b-44ef-a766-097a8af7540c",
   "metadata": {},
   "outputs": [],
   "source": [
    "## df['TotalCharges'].replace(to_replace=' ',value= '0', inplace = True)"
   ]
  },
  {
   "cell_type": "code",
   "execution_count": null,
   "id": "2450dd51-44d4-4c27-8646-c0ab5d0611c6",
   "metadata": {},
   "outputs": [],
   "source": [
    "df['TotalCharges'].str.contains(' ').sum()"
   ]
  },
  {
   "cell_type": "code",
   "execution_count": null,
   "id": "68ae2348-dcad-4eb3-81e6-b009e490cb19",
   "metadata": {},
   "outputs": [],
   "source": [
    "df['TotalCharges'] = df['TotalCharges'].astype(float)"
   ]
  },
  {
   "cell_type": "code",
   "execution_count": null,
   "id": "5b76e157-fce7-4012-b351-8235a96ecec1",
   "metadata": {},
   "outputs": [],
   "source": [
    "df.info()"
   ]
  },
  {
   "cell_type": "code",
   "execution_count": null,
   "id": "022f04c8-3bda-4741-9e45-ec6a1d03a205",
   "metadata": {},
   "outputs": [],
   "source": [
    "for i in df.columns:\n",
    "    print(i)\n",
    "    print(df[i].unique())\n",
    "    print('--------')"
   ]
  },
  {
   "cell_type": "code",
   "execution_count": null,
   "id": "95bc95cb-68aa-458d-af39-f88d1f2c5cb7",
   "metadata": {},
   "outputs": [],
   "source": [
    "df['SeniorCitizen'].replace({1:'Yes',0:'No'}, inplace=True)"
   ]
  },
  {
   "cell_type": "code",
   "execution_count": null,
   "id": "77077e37-a522-41ca-b670-6c950f10b33a",
   "metadata": {},
   "outputs": [],
   "source": [
    "df.drop('customerID', axis=1, inplace=True)"
   ]
  },
  {
   "cell_type": "markdown",
   "id": "e421637b-b650-4461-85ad-2d5d5bc5a763",
   "metadata": {},
   "source": [
    "### Seperating numerical and catgorical data"
   ]
  },
  {
   "cell_type": "code",
   "execution_count": null,
   "id": "de7cbd23-7f99-4973-b878-2ea437888449",
   "metadata": {},
   "outputs": [],
   "source": [
    "num = df.select_dtypes(include=np.number).columns.to_list()\n",
    "cat = df.select_dtypes(include=object).columns.to_list()"
   ]
  },
  {
   "cell_type": "markdown",
   "id": "cd0a5ed4-ae00-4a12-a5d6-d04fb3f5b788",
   "metadata": {},
   "source": [
    "### fetch outliers using IQR"
   ]
  },
  {
   "cell_type": "code",
   "execution_count": null,
   "id": "eaaaebcb-fbfc-4747-bcb1-54a2ccff68c9",
   "metadata": {},
   "outputs": [],
   "source": [
    "Q1 = df[num].quantile(0.25)\n",
    "Q3 = df[num].quantile(0.75)"
   ]
  },
  {
   "cell_type": "code",
   "execution_count": null,
   "id": "7dca2396-fc13-466c-9dbb-03c7f766d16a",
   "metadata": {},
   "outputs": [],
   "source": [
    "IQR = Q3 - Q1\n",
    "IQR"
   ]
  },
  {
   "cell_type": "code",
   "execution_count": null,
   "id": "ca2df327-eb0c-40c7-b5b1-367c32b68ba2",
   "metadata": {},
   "outputs": [],
   "source": [
    "lower_whis  = Q1 - (1.5*IQR)\n",
    "lower_whis"
   ]
  },
  {
   "cell_type": "code",
   "execution_count": null,
   "id": "ef1b46c7-9ad5-4f23-9f20-1bb944cfca01",
   "metadata": {},
   "outputs": [],
   "source": [
    "upper_whis = Q3 + (1.5*IQR)\n",
    "upper_whis"
   ]
  },
  {
   "cell_type": "code",
   "execution_count": null,
   "id": "318ad62e-ac82-45f9-a687-3282c8fde514",
   "metadata": {},
   "outputs": [],
   "source": [
    "outliers = df[((df[num] <lower_whis) | (df[num] > upper_whis)).any(axis=1)]\n",
    "non_outliers = df[~((df[num] <lower_whis) | (df[num] > upper_whis)).any(axis=1)]"
   ]
  },
  {
   "cell_type": "code",
   "execution_count": null,
   "id": "022c7b17-e8d4-4b4e-9e44-884c5a4da74b",
   "metadata": {},
   "outputs": [],
   "source": [
    "len(outliers)/len(df)*100"
   ]
  },
  {
   "cell_type": "code",
   "execution_count": null,
   "id": "6aae771d-96fa-4f6f-b2fe-3667d9752294",
   "metadata": {},
   "outputs": [],
   "source": [
    "plt.rcParams['figure.figsize'] = [20, 10]"
   ]
  },
  {
   "cell_type": "code",
   "execution_count": null,
   "id": "51032c1b-44ea-422a-b168-40d4188419ac",
   "metadata": {},
   "outputs": [],
   "source": [
    "t = 1\n",
    "for i in num:\n",
    "    plt.subplot(1,3,t)\n",
    "    sns.boxplot(df[i])\n",
    "    plt.title(f'Boxplot of {i}')\n",
    "    t +=1\n",
    "plt.tight_layout()\n",
    "plt.show()"
   ]
  },
  {
   "cell_type": "code",
   "execution_count": null,
   "id": "7d4d6e23-97a6-4191-8cd4-0952e45c21f5",
   "metadata": {},
   "outputs": [],
   "source": [
    "df.describe()"
   ]
  },
  {
   "cell_type": "code",
   "execution_count": null,
   "id": "2355e5f3-4610-4460-9240-1bbed0313f8a",
   "metadata": {},
   "outputs": [],
   "source": [
    "print('tenure-------------',df['tenure'].skew(),'\\nMonthlyCharges-----', df['MonthlyCharges'].skew(),'\\nTotalCharges-------', df['TotalCharges'].skew())"
   ]
  },
  {
   "cell_type": "code",
   "execution_count": null,
   "id": "efe52d19-7780-4a38-b8c2-036b2028d2f8",
   "metadata": {},
   "outputs": [],
   "source": [
    "df[cat].describe().T"
   ]
  },
  {
   "cell_type": "markdown",
   "id": "796f2e26-477b-4942-be9e-016b92e33d9c",
   "metadata": {},
   "source": [
    "<font size = 4px color = #00FF00>Inference</font>\n",
    "* There are nearly 7000 rows with 21 columns\n",
    "* Dropped customer ID for analysis\n",
    "* Treated blanks in totalcharges with ), as their respective tenure is 0\n",
    "* converted pre encoded senior citizen column(0/1) to categiric column\n",
    "* No evident outliers and no null values\n",
    "* the numeic columns are seems to be skewed"
   ]
  },
  {
   "cell_type": "markdown",
   "id": "9044aa0b-5ed8-4ef7-9815-207db1264aa1",
   "metadata": {},
   "source": [
    "<font color = #00FFFF size = 6px><b>Deep Analysis</font>\n",
    "\n",
    "### Univariate Analysis"
   ]
  },
  {
   "cell_type": "code",
   "execution_count": null,
   "id": "7b2f5861-a605-49e5-a777-9ed2db5352e9",
   "metadata": {},
   "outputs": [],
   "source": [
    "t = 1\n",
    "for i in num:\n",
    "    plt.subplot(3,3,t)\n",
    "    sns.histplot(df[i],color = 'green')\n",
    "    plt.title(f'Histplot of {i}')\n",
    "    t +=1\n",
    "plt.tight_layout()\n",
    "plt.show()"
   ]
  },
  {
   "cell_type": "code",
   "execution_count": null,
   "id": "a621c072-1734-4e6b-bb71-5ad962f3a165",
   "metadata": {},
   "outputs": [],
   "source": [
    "t = 1\n",
    "for i in num:\n",
    "    plt.subplot(3,3,t)\n",
    "    sns.distplot(df[i],color = 'red')\n",
    "    plt.title(f'Distplot of {i}')\n",
    "    t +=1\n",
    "plt.tight_layout()\n",
    "plt.show()"
   ]
  },
  {
   "cell_type": "code",
   "execution_count": null,
   "id": "ebe28936-d31b-4fd0-a0d2-d4e56094ef20",
   "metadata": {},
   "outputs": [],
   "source": [
    "t = 1\n",
    "for i in num:\n",
    "    plt.subplot(3,3,t)\n",
    "    sns.boxplot(df[i],color = 'yellow')\n",
    "    plt.title(f'Boxplot of {i}')\n",
    "    t +=1\n",
    "plt.tight_layout()\n",
    "plt.show()"
   ]
  },
  {
   "cell_type": "code",
   "execution_count": null,
   "id": "7feaba00-f96a-4548-a736-04c984a8427d",
   "metadata": {},
   "outputs": [],
   "source": [
    "t = 1\n",
    "for i in num:\n",
    "    plt.subplot(3,3,t)\n",
    "    sns.kdeplot(df[i],color = 'blue')\n",
    "    plt.title(f'KDEplot of {i}')\n",
    "    t +=1\n",
    "plt.tight_layout()\n",
    "plt.show()"
   ]
  },
  {
   "cell_type": "code",
   "execution_count": null,
   "id": "991b893f-ea2d-490d-9f6f-46e7cbabe4c0",
   "metadata": {},
   "outputs": [],
   "source": [
    "t = 1\n",
    "for i in num:\n",
    "    plt.subplot(1,3,t)\n",
    "    sns.violinplot(df[i],color = '#5F9EA0')\n",
    "    plt.title(f'Violinplot of {i}')\n",
    "    t +=1\n",
    "plt.tight_layout()\n",
    "plt.show()"
   ]
  },
  {
   "cell_type": "markdown",
   "id": "4bc3996c-9778-4b05-bde0-00e95267dd4d",
   "metadata": {},
   "source": [
    "<font size = 4px color = #00FF00>Inference</font>\n",
    "* Tenure --> Slightly right skewed and many customers with tenure value between 0 to 10\n",
    "* MonthlyCharges --> Slightly left skewed and many customers with tenure value between 20 to 30"
   ]
  },
  {
   "cell_type": "code",
   "execution_count": null,
   "id": "c609b767-8bbe-4876-8a96-c6aede31d188",
   "metadata": {},
   "outputs": [],
   "source": [
    "t = 1\n",
    "with plt.rc_context({'font.size': 10, 'figure.figsize': (25, 20)}):\n",
    "    for i in cat:\n",
    "        plt.subplot(5,4,t)\n",
    "        df[i].value_counts().plot(kind='pie',autopct = '%.1f%%')\n",
    "        plt.title(f'Piechart of {i}')\n",
    "        t+=1\n",
    "plt.tight_layout()\n",
    "plt.show()"
   ]
  },
  {
   "cell_type": "code",
   "execution_count": null,
   "id": "f9ecf3ec-c2cc-4c64-9e14-9bfb3e624e18",
   "metadata": {},
   "outputs": [],
   "source": [
    "t = 1\n",
    "for i in cat:\n",
    "    plt.subplot(5,4,t)\n",
    "    sns.countplot(x=df[i], palette='plasma') \n",
    "    plt.title(f'Count plot of {i}')\n",
    "    t+=1\n",
    "plt.tight_layout()\n",
    "plt.show()"
   ]
  },
  {
   "cell_type": "markdown",
   "id": "e4b7d068-c36e-46a3-a0e9-85c602f053c6",
   "metadata": {},
   "source": [
    "### Bivariate Analysis"
   ]
  },
  {
   "cell_type": "markdown",
   "id": "20830975-0525-4e0d-ba9a-db35efece095",
   "metadata": {},
   "source": [
    "#### Num V/s Num"
   ]
  },
  {
   "cell_type": "code",
   "execution_count": null,
   "id": "c8346e78-e6ea-4bfd-887a-bc367fc776c4",
   "metadata": {},
   "outputs": [],
   "source": [
    "df[num].corr()"
   ]
  },
  {
   "cell_type": "code",
   "execution_count": null,
   "id": "019c7831-2b9c-4dd5-afce-8fbe1cc97ed9",
   "metadata": {},
   "outputs": [],
   "source": [
    "t = 1\n",
    "for i in num:\n",
    "    for j in num:\n",
    "        if i!=j: # to ignore comparing column to itself\n",
    "            plt.subplot(2,3,t)\n",
    "            sns.scatterplot(x=df[i], y = df[j])\n",
    "            t+=1\n",
    "plt.tight_layout()\n",
    "plt.show()"
   ]
  },
  {
   "cell_type": "markdown",
   "id": "4d5bbd63-5721-4cf3-b33e-41481f68db9b",
   "metadata": {},
   "source": [
    "#### Num V/s cat"
   ]
  },
  {
   "cell_type": "code",
   "execution_count": null,
   "id": "f1074a6d-f855-43e8-a534-ae666c0cfcbf",
   "metadata": {},
   "outputs": [],
   "source": [
    "t = 1\n",
    "for i in num:\n",
    "    print(f'Mean {i} for churn column')\n",
    "    print(df.groupby('Churn')[i].mean())\n",
    "    print('----------------------------')"
   ]
  },
  {
   "cell_type": "code",
   "execution_count": null,
   "id": "b1b3a99c-f0b7-44eb-a43d-c8a54cb2111c",
   "metadata": {},
   "outputs": [],
   "source": [
    "t = 1\n",
    "for i in num:\n",
    "    plt.subplot(1,3,t)\n",
    "    sns.barplot(x = df['Churn'], y=df[i])\n",
    "    t+=1\n",
    "plt.tight_layout()\n",
    "plt.show()"
   ]
  },
  {
   "cell_type": "markdown",
   "id": "3ef0cc36-16d5-49df-a5b2-87140ba69125",
   "metadata": {},
   "source": [
    "#### Cat v/s cat (churn)"
   ]
  },
  {
   "cell_type": "code",
   "execution_count": null,
   "id": "3231659c-a438-4f44-9ef9-ac824fd0cb09",
   "metadata": {},
   "outputs": [],
   "source": [
    "for i in cat:\n",
    "    print(f'frequency summary between churn and {i} ')\n",
    "    print(pd.crosstab(df['Churn'], df[i]))\n",
    "    print('---------------------------------')"
   ]
  },
  {
   "cell_type": "code",
   "execution_count": null,
   "id": "cd5c6af6-bcc5-49bf-ba5f-25ef087cbd41",
   "metadata": {},
   "outputs": [],
   "source": [
    "t = 1\n",
    "for i in cat:\n",
    "    if i != 'Churn':\n",
    "        plt.subplot(6,3,t)\n",
    "        sns.countplot(x = df['Churn'], hue = df[i]).plot(kind='bar')\n",
    "        plt.title(f'count of Churn v/s {i} ')\n",
    "        t+=1\n",
    "plt.tight_layout()\n",
    "plt.show()"
   ]
  },
  {
   "cell_type": "code",
   "execution_count": null,
   "id": "0c1e63f0-a9a6-483d-8b79-6a68d1663f1d",
   "metadata": {},
   "outputs": [],
   "source": []
  },
  {
   "cell_type": "markdown",
   "id": "31d5e68e-5aa5-4c5d-86f2-b3e921ce3d6c",
   "metadata": {},
   "source": [
    "### Multivariate Analysis"
   ]
  },
  {
   "cell_type": "code",
   "execution_count": null,
   "id": "c64436a1-ca27-4f3d-a815-fb79feb10b58",
   "metadata": {},
   "outputs": [],
   "source": [
    "sns.heatmap(df[num].corr(), annot = True)\n",
    "#cmap = 'plasma','magma','viridis','Greens','Blues','Oranges','coolwarm','cividis'\n",
    "plt.show()"
   ]
  },
  {
   "cell_type": "code",
   "execution_count": null,
   "id": "ddeb6fe5-a160-4502-b057-8748eacfced7",
   "metadata": {},
   "outputs": [],
   "source": [
    "sns.pairplot(df[num], diag_kind='kde')\n",
    "plt.show()"
   ]
  },
  {
   "cell_type": "markdown",
   "id": "49c4adcf-524c-46d1-a78a-a49854c1624d",
   "metadata": {},
   "source": [
    "<font color='red' size =4px<b><i> Statistical Inference</f>"
   ]
  },
  {
   "cell_type": "markdown",
   "id": "7ee4ae48-1f94-4772-a6c6-94d2cc287e4b",
   "metadata": {},
   "source": [
    "***1.Check whether gender has any dependency on churn***"
   ]
  },
  {
   "cell_type": "raw",
   "id": "0da3b148-310d-4598-9824-08bee0153c86",
   "metadata": {},
   "source": [
    "Chi square test for independence"
   ]
  },
  {
   "cell_type": "raw",
   "id": "0229291b-c874-4cb1-9d2e-1337278f062e",
   "metadata": {},
   "source": [
    "Ho:  Gender and Churn are independent\n",
    "Ha: Gender and chrn are dependent"
   ]
  },
  {
   "cell_type": "code",
   "execution_count": null,
   "id": "7a9115d0-f31e-4d05-b786-b08a3eb60d66",
   "metadata": {},
   "outputs": [],
   "source": [
    "f_obs = pd.crosstab(df['Churn'],df['gender'])\n",
    "f_obs"
   ]
  },
  {
   "cell_type": "code",
   "execution_count": null,
   "id": "a1c43c04-7fc1-406e-a69e-d91f712e4fc4",
   "metadata": {},
   "outputs": [],
   "source": [
    "from scipy import stats"
   ]
  },
  {
   "cell_type": "code",
   "execution_count": null,
   "id": "9d0d1572-0729-463f-b6d1-183281aa0b0d",
   "metadata": {},
   "outputs": [],
   "source": [
    "chi_stats,p_value,dof,f_exp =stats.chi2_contingency(f_obs)\n",
    "print('Chi stats:\"',chi_stats)\n",
    "print('p value:\"',p_value)"
   ]
  },
  {
   "cell_type": "code",
   "execution_count": null,
   "id": "085f9eda-fc05-492b-808b-a9d1dd2531c2",
   "metadata": {},
   "outputs": [],
   "source": [
    "chi_crit = round(stats.chi2.isf(0.05,1),3)\n",
    "chi_crit"
   ]
  },
  {
   "cell_type": "markdown",
   "id": "978893cf-f735-47dd-95f7-f3bc5926cc9e",
   "metadata": {},
   "source": [
    "***Conclusion***\n",
    "* p_value > sig value\n",
    "* stats < crit value --->>>> Fails to reject Ho\n",
    "* ----:::::::: Gender and churn are independent"
   ]
  },
  {
   "cell_type": "markdown",
   "id": "65ef86dc-6008-4a35-a33a-f50373c0f0a5",
   "metadata": {},
   "source": [
    "***2.Check whether tenure is statistically significant in predicting churn***"
   ]
  },
  {
   "cell_type": "code",
   "execution_count": null,
   "id": "de6d7672-d07f-4f3a-8ac9-1638d38a63ff",
   "metadata": {},
   "outputs": [],
   "source": [
    "yes = df[df['Churn']=='Yes']['tenure']\n",
    "no = df[df['Churn']=='No']['tenure']"
   ]
  },
  {
   "cell_type": "markdown",
   "id": "61a524ee-4615-47f6-b82d-d5a45da3e5aa",
   "metadata": {},
   "source": [
    "* Ho: Tenure is not statistically significant in predicting churn\n",
    "* Ha: tenure is statistically significant in predicting churn\n",
    "----------------------------------------------------\n",
    "* Ho: tenure and churn are independent\n",
    "* Ha: tenure and churn are dependent\n",
    "------------------------------------------------------\n",
    "* Ho: Means are equal\n",
    "* Ha: Means are not equal\n"
   ]
  },
  {
   "cell_type": "markdown",
   "id": "fe4e8689-5d40-4849-b083-4a853a0bf3de",
   "metadata": {},
   "source": [
    "****Assume data is normal and of equal varience****"
   ]
  },
  {
   "cell_type": "code",
   "execution_count": null,
   "id": "71d36e04-6f6c-4490-b379-1db03d1f026f",
   "metadata": {},
   "outputs": [],
   "source": [
    "stats.ttest_ind(yes,no)"
   ]
  },
  {
   "cell_type": "code",
   "execution_count": null,
   "id": "fd5cd1ef-8b34-4ac0-a558-125d18750f07",
   "metadata": {},
   "outputs": [],
   "source": [
    "stats.t.isf(0.05/2,df=7041)"
   ]
  },
  {
   "cell_type": "markdown",
   "id": "2b6ee78f-5f93-45cb-ba99-cafb9c7bc631",
   "metadata": {},
   "source": [
    "***Conclusion***\n",
    "* p_value < sig value\n",
    "* stats > crit value --->>>>  reject Ho\n",
    "* ---->>>>>>>>>>>>>>> tenure is statistically significant in predicting churn"
   ]
  },
  {
   "cell_type": "markdown",
   "id": "747592fd-5823-46db-a1d1-677c467a7bab",
   "metadata": {},
   "source": [
    "***3.Check whether contract has any dependency with monthly charges***"
   ]
  },
  {
   "cell_type": "raw",
   "id": "b74f7825-22f7-4cc2-8d27-417299dd970e",
   "metadata": {},
   "source": [
    "Ho: Contract has no dependency with monthly charges(means are same)\n",
    "Ha: contract has dependency with monthly charges(means are not same)"
   ]
  },
  {
   "cell_type": "code",
   "execution_count": null,
   "id": "19aac580-b83b-4d71-ac5b-d827f5b32795",
   "metadata": {},
   "outputs": [],
   "source": [
    "df['Contract'].unique()"
   ]
  },
  {
   "cell_type": "code",
   "execution_count": null,
   "id": "6ab0733f-8ae8-44d5-9be1-ec222f89d958",
   "metadata": {},
   "outputs": [],
   "source": [
    "s1 = df[df['Contract']=='Month-to-month']['MonthlyCharges']\n",
    "s2 = df[df['Contract']=='One year']['MonthlyCharges']\n",
    "s3 = df[df['Contract']=='Two year']['MonthlyCharges']"
   ]
  },
  {
   "cell_type": "code",
   "execution_count": null,
   "id": "f6707fe0-c2ff-455b-a3f4-2a36ee626ef1",
   "metadata": {},
   "outputs": [],
   "source": [
    "dfb=2\n",
    "dfw=len(df['Contract'])-3"
   ]
  },
  {
   "cell_type": "code",
   "execution_count": null,
   "id": "6c38c6bf-6575-440e-bce3-2384c6fea510",
   "metadata": {},
   "outputs": [],
   "source": [
    "stats.f_oneway(s1,s2,s3)"
   ]
  },
  {
   "cell_type": "code",
   "execution_count": null,
   "id": "00ad23b5-ea5a-47cc-a012-48edd36147f9",
   "metadata": {},
   "outputs": [],
   "source": [
    "stats.f.isf(0.05/2,dfb,dfw)"
   ]
  },
  {
   "cell_type": "markdown",
   "id": "99a60171-c218-4e1e-bc90-3ee1893ee37f",
   "metadata": {},
   "source": [
    "***Conclusion***\n",
    "* p_value < sig value\n",
    "* stats > crit value --->>>>  reject Ho\n",
    "* ---->>>>>>>>>>>>>>> contract has dependency with monthly charges"
   ]
  },
  {
   "cell_type": "code",
   "execution_count": null,
   "id": "459474a0-901a-4d28-9b84-db82dcbb2622",
   "metadata": {},
   "outputs": [],
   "source": [
    "from statsmodels.stats.multicomp import pairwise_tukeyhsd"
   ]
  },
  {
   "cell_type": "code",
   "execution_count": null,
   "id": "183b1e48-b320-4f4d-8f5f-8e40d8abdb7b",
   "metadata": {},
   "outputs": [],
   "source": [
    "pairwise_tukeyhsd(df['MonthlyCharges'],df['Contract']).summary()"
   ]
  },
  {
   "cell_type": "markdown",
   "id": "798d9561-2d6e-48d7-bd41-666a23258875",
   "metadata": {},
   "source": [
    "Month-to-month and one year pair has same mean,other pairs have different mean(reject Ho is true)"
   ]
  },
  {
   "cell_type": "markdown",
   "id": "6db78b2b-d887-48cc-a5c9-92db23f97d98",
   "metadata": {},
   "source": [
    "**4.Check tenure has any impact on monthly charges**"
   ]
  },
  {
   "cell_type": "raw",
   "id": "936285ef-ddfa-4613-874c-51bf63ff4538",
   "metadata": {},
   "source": [
    "Ho: tenure has no impact on monthly charges\n",
    "Ha: tenure has impact on monthly charges"
   ]
  },
  {
   "cell_type": "code",
   "execution_count": null,
   "id": "6c522821-575e-4588-b384-3635b77d6d0e",
   "metadata": {},
   "outputs": [],
   "source": [
    "stats.pearsonr(df['tenure'],df['MonthlyCharges'])"
   ]
  },
  {
   "cell_type": "markdown",
   "id": "56f13575-e22f-4015-8627-af84972f3466",
   "metadata": {},
   "source": [
    "***Conclusion***\n",
    "* p_value < sig value--->>> Reject Ho\n",
    "* stats > crit value --->>>>  reject Ho\n",
    "* ---->>>>>>>>>>>>>>> tenure has impact on monthly charges"
   ]
  },
  {
   "cell_type": "code",
   "execution_count": null,
   "id": "fd2c132e-47e3-415c-9b19-a17a01176035",
   "metadata": {},
   "outputs": [],
   "source": []
  },
  {
   "cell_type": "code",
   "execution_count": null,
   "id": "675da9f1-d14f-48af-bae7-1eddcac698e2",
   "metadata": {},
   "outputs": [],
   "source": []
  },
  {
   "cell_type": "code",
   "execution_count": null,
   "id": "49001d2c-8497-472d-87e5-d038fd29adff",
   "metadata": {},
   "outputs": [],
   "source": []
  },
  {
   "cell_type": "code",
   "execution_count": null,
   "id": "839ceafd-b421-43cb-b81f-bfab70d121d1",
   "metadata": {},
   "outputs": [],
   "source": []
  },
  {
   "cell_type": "code",
   "execution_count": null,
   "id": "ddcb5bea-9c70-437e-80e2-fd300198cb89",
   "metadata": {},
   "outputs": [],
   "source": []
  },
  {
   "cell_type": "code",
   "execution_count": null,
   "id": "953c3d1c-ed5f-4af0-a4b9-844baefa8890",
   "metadata": {},
   "outputs": [],
   "source": []
  },
  {
   "cell_type": "code",
   "execution_count": null,
   "id": "c14d47ce-4169-4bad-a4af-7b573f8f6745",
   "metadata": {},
   "outputs": [],
   "source": []
  },
  {
   "cell_type": "code",
   "execution_count": null,
   "id": "e54d574c-35fb-4e09-bcdb-f173b99bd791",
   "metadata": {},
   "outputs": [],
   "source": []
  },
  {
   "cell_type": "code",
   "execution_count": null,
   "id": "af92656b-847c-4047-a5c9-68113f4b72de",
   "metadata": {},
   "outputs": [],
   "source": []
  },
  {
   "cell_type": "code",
   "execution_count": null,
   "id": "d51556ba-a563-464e-b6b7-c007b743dcdb",
   "metadata": {},
   "outputs": [],
   "source": []
  },
  {
   "cell_type": "code",
   "execution_count": null,
   "id": "db828638-3903-460c-9fa4-d669318b964f",
   "metadata": {},
   "outputs": [],
   "source": []
  },
  {
   "cell_type": "markdown",
   "id": "30279fd2-f65f-4b68-8839-0572d17b2e9a",
   "metadata": {},
   "source": [
    "<font color = #00FFFF size = 6px><b>Encoding"
   ]
  },
  {
   "cell_type": "code",
   "execution_count": null,
   "id": "5869ffc8-2569-4ffb-8cdf-c8ecee736093",
   "metadata": {},
   "outputs": [],
   "source": [
    "df1 = df.copy()\n",
    "df1.head()"
   ]
  },
  {
   "cell_type": "code",
   "execution_count": null,
   "id": "40c3e6d3-9367-4447-99fb-14514e42a426",
   "metadata": {},
   "outputs": [],
   "source": [
    "for i in cat:\n",
    "    print(i)\n",
    "    print(df[i].unique())\n",
    "    print('--------------------------')"
   ]
  },
  {
   "cell_type": "markdown",
   "id": "cacefee7-3a56-4d56-87f0-3ed2d6282106",
   "metadata": {},
   "source": [
    "**One hot encoding**"
   ]
  },
  {
   "cell_type": "code",
   "execution_count": null,
   "id": "3e1c37f9-4923-4ca6-b62d-362b94a046fb",
   "metadata": {},
   "outputs": [],
   "source": [
    "one_hot = ['InternetService','PaymentMethod']"
   ]
  },
  {
   "cell_type": "code",
   "execution_count": null,
   "id": "a7f34f6a-84a8-4979-b244-0ebaa841e07d",
   "metadata": {},
   "outputs": [],
   "source": [
    "pd.get_dummies(data = df1, columns=one_hot, dtype=int) # one hot encoding"
   ]
  },
  {
   "cell_type": "code",
   "execution_count": null,
   "id": "adc087c9-4ba0-49d9-9eeb-ee221b0d1799",
   "metadata": {},
   "outputs": [],
   "source": [
    "df1 = pd.get_dummies(data = df1, columns=one_hot, dtype = int, drop_first=True) # N-1 dummy encoding"
   ]
  },
  {
   "cell_type": "markdown",
   "id": "5302ddce-affd-4461-b3fb-ba08b3d847b7",
   "metadata": {},
   "source": [
    "**Frequency encoding**"
   ]
  },
  {
   "cell_type": "code",
   "execution_count": null,
   "id": "7b3aba6b-e240-4b07-92ee-67a8407e60a5",
   "metadata": {},
   "outputs": [],
   "source": [
    "freq = df1['gender'].value_counts(normalize = True)"
   ]
  },
  {
   "cell_type": "code",
   "execution_count": null,
   "id": "6041be1d-09a8-4ab1-a5d4-901c9641a212",
   "metadata": {},
   "outputs": [],
   "source": [
    "df1['gender'] = df1['gender'].replace(freq)"
   ]
  },
  {
   "cell_type": "code",
   "execution_count": null,
   "id": "314ed82b-18ee-4239-bc2b-5c15ebcc1163",
   "metadata": {},
   "outputs": [],
   "source": [
    "df1['gender'].unique()"
   ]
  },
  {
   "cell_type": "markdown",
   "id": "90bca7d2-f5c7-46f5-a513-b8c397da6963",
   "metadata": {},
   "source": [
    "**Ordinal encoding**"
   ]
  },
  {
   "cell_type": "code",
   "execution_count": null,
   "id": "63e07274-f928-4256-b560-877130bd800b",
   "metadata": {},
   "outputs": [],
   "source": [
    "from sklearn.preprocessing import OrdinalEncoder"
   ]
  },
  {
   "cell_type": "code",
   "execution_count": null,
   "id": "7bcfc131-1a73-4c57-9960-9a8758fd7cc7",
   "metadata": {},
   "outputs": [],
   "source": [
    "ordinal = OrdinalEncoder(categories=[['Month-to-month','One year','Two year']])"
   ]
  },
  {
   "cell_type": "code",
   "execution_count": null,
   "id": "85048b1f-54a9-44bf-8e9f-60f3840a138f",
   "metadata": {},
   "outputs": [],
   "source": [
    "df1['Contract']=ordinal.fit_transform(df1[['Contract']])"
   ]
  },
  {
   "cell_type": "markdown",
   "id": "c6e7e17f-314f-42f0-94ad-796a2144eff1",
   "metadata": {},
   "source": [
    "**Label Encoding**"
   ]
  },
  {
   "cell_type": "code",
   "execution_count": null,
   "id": "57c226bf-801e-4b03-bb40-18835392e2bb",
   "metadata": {},
   "outputs": [],
   "source": [
    "cat1 = ['SeniorCitizen', 'Partner', 'Dependents', 'PhoneService', 'MultipleLines', 'OnlineSecurity', 'OnlineBackup',\n",
    " 'DeviceProtection', 'TechSupport', 'StreamingTV', 'StreamingMovies', 'PaperlessBilling',  'Churn']"
   ]
  },
  {
   "cell_type": "code",
   "execution_count": null,
   "id": "c1d6bfa4-f26d-494a-b9c5-b2fdf5cb9d6d",
   "metadata": {},
   "outputs": [],
   "source": [
    "from sklearn.preprocessing import LabelEncoder"
   ]
  },
  {
   "cell_type": "code",
   "execution_count": null,
   "id": "c8b115e3-1eff-49dd-9ea2-6e8437fe9c1a",
   "metadata": {},
   "outputs": [],
   "source": [
    "l = LabelEncoder()\n",
    "for i in cat1:\n",
    "    df1[i] = l.fit_transform(df1[i])"
   ]
  },
  {
   "cell_type": "code",
   "execution_count": null,
   "id": "143f0aab-77a3-4750-943a-e16b61f52b6d",
   "metadata": {},
   "outputs": [],
   "source": [
    "df1.info()"
   ]
  },
  {
   "cell_type": "markdown",
   "id": "999c6701-9f1d-40f6-bbb0-8c0c44fb1962",
   "metadata": {},
   "source": [
    "<font color = #00FFFF size = 6px><b>Transformation</font>"
   ]
  },
  {
   "cell_type": "code",
   "execution_count": null,
   "id": "a7806905-6ef5-496b-aef3-f09979d04acf",
   "metadata": {},
   "outputs": [],
   "source": [
    "df1[num].skew()"
   ]
  },
  {
   "cell_type": "markdown",
   "id": "bce56dce-cd83-417b-aa8c-bf9e8dc86652",
   "metadata": {},
   "source": [
    "Transform total charges using Yoe johnson  (column has 0 values)"
   ]
  },
  {
   "cell_type": "code",
   "execution_count": null,
   "id": "edd9f02e-cc05-44a4-873d-db7138db54f5",
   "metadata": {},
   "outputs": [],
   "source": [
    "from sklearn.preprocessing import PowerTransformer\n",
    "p = PowerTransformer()"
   ]
  },
  {
   "cell_type": "code",
   "execution_count": null,
   "id": "5075a42a-b957-4f9b-b4b8-46a84636f202",
   "metadata": {},
   "outputs": [],
   "source": [
    "df['TotalCharges'] = p.fit_transform(df[['TotalCharges']])"
   ]
  },
  {
   "cell_type": "code",
   "execution_count": null,
   "id": "68d740f7-b1ac-4b74-a536-74714d2cce2d",
   "metadata": {},
   "outputs": [],
   "source": [
    "df['TotalCharges'].skew()"
   ]
  },
  {
   "cell_type": "markdown",
   "id": "a4f3a754-6299-4e7d-9581-369416d94f53",
   "metadata": {},
   "source": [
    "<font color = #00FFFF size = 6px><b>Scaling</font>"
   ]
  },
  {
   "cell_type": "markdown",
   "id": "6400bbff-9017-408f-812f-af227ef1a45c",
   "metadata": {},
   "source": [
    "### Standard scaling"
   ]
  },
  {
   "cell_type": "code",
   "execution_count": null,
   "id": "921a45a9-bb50-4d39-a3d0-9e96a6a81fae",
   "metadata": {},
   "outputs": [],
   "source": [
    "from sklearn.preprocessing import StandardScaler, MinMaxScaler"
   ]
  },
  {
   "cell_type": "code",
   "execution_count": null,
   "id": "3af8265e-a359-4c40-8235-ae9b88576a9a",
   "metadata": {},
   "outputs": [],
   "source": [
    "s = StandardScaler()\n",
    "\n",
    "df1['tenure'] = s.fit_transform(df1[['tenure']])"
   ]
  },
  {
   "cell_type": "code",
   "execution_count": null,
   "id": "fa2beaf6-4a2c-4747-9ab4-386c1bda5828",
   "metadata": {},
   "outputs": [],
   "source": [
    "m = MinMaxScaler()\n",
    "\n",
    "df1['MonthlyCharges'] = m.fit_transform(df1[['MonthlyCharges']])"
   ]
  },
  {
   "cell_type": "code",
   "execution_count": null,
   "id": "467723e6-fbce-4889-bb67-ecc356c29369",
   "metadata": {},
   "outputs": [],
   "source": []
  }
 ],
 "metadata": {
  "kernelspec": {
   "display_name": "Python 3 (ipykernel)",
   "language": "python",
   "name": "python3"
  },
  "language_info": {
   "codemirror_mode": {
    "name": "ipython",
    "version": 3
   },
   "file_extension": ".py",
   "mimetype": "text/x-python",
   "name": "python",
   "nbconvert_exporter": "python",
   "pygments_lexer": "ipython3",
   "version": "3.13.5"
  },
  "widgets": {
   "application/vnd.jupyter.widget-state+json": {
    "state": {},
    "version_major": 2,
    "version_minor": 0
   }
  }
 },
 "nbformat": 4,
 "nbformat_minor": 5
}
